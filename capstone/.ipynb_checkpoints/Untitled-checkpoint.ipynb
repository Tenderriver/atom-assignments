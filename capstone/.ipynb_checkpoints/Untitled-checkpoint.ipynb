{
 "cells": [
  {
   "cell_type": "code",
   "execution_count": 17,
   "id": "cab10802",
   "metadata": {},
   "outputs": [],
   "source": [
    "import requests #-> Để gọi API\n",
    "import re #-> Để xử lý data dạng string\n",
    "from datetime import datetime as dt #-> Để xử lý data dạng datetime\n",
    "import gspread #-> Để update data lên Google Spreadsheet\n",
    "from gspread_dataframe import set_with_dataframe #-> Để update data lên Google Spreadsheet\n",
    "import pandas as pd #-> Để update data dạng bản\n",
    "pd.plotting.register_matplotlib_converters()\n",
    "import json \n",
    "from google.oauth2 import service_account\n",
    "import os\n",
    "import matplotlib.pyplot as plt\n",
    "%matplotlib inline\n",
    "import seaborn as sns\n",
    "import duckdb\n",
    "import streamlit as st\n",
    "from gsheetsdb import connect\n",
    "\n"
   ]
  },
  {
   "cell_type": "code",
   "execution_count": 19,
   "id": "4f4686d8",
   "metadata": {},
   "outputs": [
    {
     "name": "stdout",
     "output_type": "stream",
     "text": [
      "DONE!\n"
     ]
    },
    {
     "data": {
      "text/html": [
       "<div>\n",
       "<style scoped>\n",
       "    .dataframe tbody tr th:only-of-type {\n",
       "        vertical-align: middle;\n",
       "    }\n",
       "\n",
       "    .dataframe tbody tr th {\n",
       "        vertical-align: top;\n",
       "    }\n",
       "\n",
       "    .dataframe thead th {\n",
       "        text-align: right;\n",
       "    }\n",
       "</style>\n",
       "<table border=\"1\" class=\"dataframe\">\n",
       "  <thead>\n",
       "    <tr style=\"text-align: right;\">\n",
       "      <th></th>\n",
       "      <th>CustomersId</th>\n",
       "      <th>Firstname</th>\n",
       "      <th>Lastname</th>\n",
       "      <th>Country</th>\n",
       "      <th>City</th>\n",
       "      <th>Phone</th>\n",
       "    </tr>\n",
       "  </thead>\n",
       "  <tbody>\n",
       "    <tr>\n",
       "      <th>0</th>\n",
       "      <td>1</td>\n",
       "      <td>Maria</td>\n",
       "      <td>Anders</td>\n",
       "      <td>Bình Dương</td>\n",
       "      <td>Dĩ An</td>\n",
       "      <td>030-0074321</td>\n",
       "    </tr>\n",
       "    <tr>\n",
       "      <th>1</th>\n",
       "      <td>2</td>\n",
       "      <td>Ana</td>\n",
       "      <td>Trujillo</td>\n",
       "      <td>Bình Dương</td>\n",
       "      <td>Dĩ An</td>\n",
       "      <td>(5) 555-4729</td>\n",
       "    </tr>\n",
       "    <tr>\n",
       "      <th>2</th>\n",
       "      <td>3</td>\n",
       "      <td>Antonio</td>\n",
       "      <td>Moreno</td>\n",
       "      <td>Bình Dương</td>\n",
       "      <td>Dĩ An</td>\n",
       "      <td>(5) 555-3932</td>\n",
       "    </tr>\n",
       "    <tr>\n",
       "      <th>3</th>\n",
       "      <td>4</td>\n",
       "      <td>Thomas</td>\n",
       "      <td>Hardy</td>\n",
       "      <td>Bình Dương</td>\n",
       "      <td>Dĩ An</td>\n",
       "      <td>(171) 555-7788</td>\n",
       "    </tr>\n",
       "    <tr>\n",
       "      <th>4</th>\n",
       "      <td>5</td>\n",
       "      <td>Christina</td>\n",
       "      <td>Berglund</td>\n",
       "      <td>Bình Dương</td>\n",
       "      <td>Dĩ An</td>\n",
       "      <td>0921-12 34 65</td>\n",
       "    </tr>\n",
       "    <tr>\n",
       "      <th>...</th>\n",
       "      <td>...</td>\n",
       "      <td>...</td>\n",
       "      <td>...</td>\n",
       "      <td>...</td>\n",
       "      <td>...</td>\n",
       "      <td>...</td>\n",
       "    </tr>\n",
       "    <tr>\n",
       "      <th>86</th>\n",
       "      <td>87</td>\n",
       "      <td>Pirkko</td>\n",
       "      <td>Koskitalo</td>\n",
       "      <td>Bình Dương</td>\n",
       "      <td>Dĩ An</td>\n",
       "      <td>981-443655</td>\n",
       "    </tr>\n",
       "    <tr>\n",
       "      <th>87</th>\n",
       "      <td>88</td>\n",
       "      <td>Paula</td>\n",
       "      <td>Parente</td>\n",
       "      <td>Bình Dương</td>\n",
       "      <td>Dĩ An</td>\n",
       "      <td>(14) 555-8122</td>\n",
       "    </tr>\n",
       "    <tr>\n",
       "      <th>88</th>\n",
       "      <td>89</td>\n",
       "      <td>Karl</td>\n",
       "      <td>Jablonski</td>\n",
       "      <td>Bình Dương</td>\n",
       "      <td>Dĩ An</td>\n",
       "      <td>(206) 555-4112</td>\n",
       "    </tr>\n",
       "    <tr>\n",
       "      <th>89</th>\n",
       "      <td>90</td>\n",
       "      <td>Matti</td>\n",
       "      <td>Karttunen</td>\n",
       "      <td>Bình Dương</td>\n",
       "      <td>Dĩ An</td>\n",
       "      <td>90-224 8858</td>\n",
       "    </tr>\n",
       "    <tr>\n",
       "      <th>90</th>\n",
       "      <td>91</td>\n",
       "      <td>Zbyszek</td>\n",
       "      <td>Piestrzeniewicz</td>\n",
       "      <td>Bình Dương</td>\n",
       "      <td>Dĩ An</td>\n",
       "      <td>(26) 642-7012</td>\n",
       "    </tr>\n",
       "  </tbody>\n",
       "</table>\n",
       "<p>91 rows × 6 columns</p>\n",
       "</div>"
      ],
      "text/plain": [
       "    CustomersId  Firstname         Lastname     Country   City           Phone\n",
       "0             1      Maria           Anders  Bình Dương  Dĩ An     030-0074321\n",
       "1             2        Ana         Trujillo  Bình Dương  Dĩ An    (5) 555-4729\n",
       "2             3    Antonio           Moreno  Bình Dương  Dĩ An    (5) 555-3932\n",
       "3             4     Thomas            Hardy  Bình Dương  Dĩ An  (171) 555-7788\n",
       "4             5  Christina         Berglund  Bình Dương  Dĩ An   0921-12 34 65\n",
       "..          ...        ...              ...         ...    ...             ...\n",
       "86           87     Pirkko        Koskitalo  Bình Dương  Dĩ An      981-443655\n",
       "87           88      Paula          Parente  Bình Dương  Dĩ An   (14) 555-8122\n",
       "88           89       Karl        Jablonski  Bình Dương  Dĩ An  (206) 555-4112\n",
       "89           90      Matti        Karttunen  Bình Dương  Dĩ An     90-224 8858\n",
       "90           91    Zbyszek  Piestrzeniewicz  Bình Dương  Dĩ An   (26) 642-7012\n",
       "\n",
       "[91 rows x 6 columns]"
      ]
     },
     "execution_count": 19,
     "metadata": {},
     "output_type": "execute_result"
    }
   ],
   "source": [
    "credentials = service_account.Credentials.from_service_account_info(\n",
    "    st.secrets[\"gcp_service_account\"],\n",
    "    scopes=['https://spreadsheets.google.com/feeds',\n",
    "         'https://www.googleapis.com/auth/drive'],\n",
    ")\n",
    "gc = gspread.authorize(credentials)\n",
    "print(\"DONE!\")\n",
    "#Get data from Google sheet\n",
    "spreadsheet_key = '1KPnl0mKPrn23tt8J4Z1iyy_cDpLSz-gyVC4zuum4EXA' # input SPREADSHEET_KEY HERE\n",
    "sh = gc.open('Datasample_1').worksheet('customers')\n",
    "customers = pd.DataFrame(sh.get_all_records())\n",
    "customers #sheet 1"
   ]
  },
  {
   "cell_type": "code",
   "execution_count": 5,
   "id": "3bbb2f2e",
   "metadata": {},
   "outputs": [
    {
     "name": "stdout",
     "output_type": "stream",
     "text": [
      "Requirement already satisfied: google-auth-oauthlib in c:\\users\\gtp43728\\anaconda3\\lib\\site-packages (0.4.4)\n",
      "Requirement already satisfied: requests-oauthlib>=0.7.0 in c:\\users\\gtp43728\\anaconda3\\lib\\site-packages (from google-auth-oauthlib) (1.3.0)\n",
      "Requirement already satisfied: google-auth>=1.0.0 in c:\\users\\gtp43728\\anaconda3\\lib\\site-packages (from google-auth-oauthlib) (1.30.0)\n",
      "Requirement already satisfied: rsa<5,>=3.1.4 in c:\\users\\gtp43728\\anaconda3\\lib\\site-packages (from google-auth>=1.0.0->google-auth-oauthlib) (4.7.2)\n",
      "Requirement already satisfied: cachetools<5.0,>=2.0.0 in c:\\users\\gtp43728\\anaconda3\\lib\\site-packages (from google-auth>=1.0.0->google-auth-oauthlib) (4.2.2)\n",
      "Requirement already satisfied: setuptools>=40.3.0 in c:\\users\\gtp43728\\anaconda3\\lib\\site-packages (from google-auth>=1.0.0->google-auth-oauthlib) (52.0.0.post20210125)\n",
      "Requirement already satisfied: six>=1.9.0 in c:\\users\\gtp43728\\anaconda3\\lib\\site-packages (from google-auth>=1.0.0->google-auth-oauthlib) (1.15.0)\n",
      "Requirement already satisfied: pyasn1-modules>=0.2.1 in c:\\users\\gtp43728\\anaconda3\\lib\\site-packages (from google-auth>=1.0.0->google-auth-oauthlib) (0.2.8)\n",
      "Requirement already satisfied: pyasn1<0.5.0,>=0.4.6 in c:\\users\\gtp43728\\anaconda3\\lib\\site-packages (from pyasn1-modules>=0.2.1->google-auth>=1.0.0->google-auth-oauthlib) (0.4.8)\n",
      "Requirement already satisfied: oauthlib>=3.0.0 in c:\\users\\gtp43728\\anaconda3\\lib\\site-packages (from requests-oauthlib>=0.7.0->google-auth-oauthlib) (3.1.0)\n",
      "Requirement already satisfied: requests>=2.0.0 in c:\\users\\gtp43728\\anaconda3\\lib\\site-packages (from requests-oauthlib>=0.7.0->google-auth-oauthlib) (2.25.1)\n",
      "Requirement already satisfied: urllib3<1.27,>=1.21.1 in c:\\users\\gtp43728\\anaconda3\\lib\\site-packages (from requests>=2.0.0->requests-oauthlib>=0.7.0->google-auth-oauthlib) (1.26.4)\n",
      "Requirement already satisfied: idna<3,>=2.5 in c:\\users\\gtp43728\\anaconda3\\lib\\site-packages (from requests>=2.0.0->requests-oauthlib>=0.7.0->google-auth-oauthlib) (2.10)\n",
      "Requirement already satisfied: chardet<5,>=3.0.2 in c:\\users\\gtp43728\\anaconda3\\lib\\site-packages (from requests>=2.0.0->requests-oauthlib>=0.7.0->google-auth-oauthlib) (4.0.0)\n",
      "Requirement already satisfied: certifi>=2017.4.17 in c:\\users\\gtp43728\\anaconda3\\lib\\site-packages (from requests>=2.0.0->requests-oauthlib>=0.7.0->google-auth-oauthlib) (2020.12.5)\n",
      "Note: you may need to restart the kernel to use updated packages.\n"
     ]
    },
    {
     "name": "stderr",
     "output_type": "stream",
     "text": [
      "WARNING: Retrying (Retry(total=4, connect=None, read=None, redirect=None, status=None)) after connection broken by 'ProtocolError('Connection aborted.', ConnectionResetError(10054, 'An existing connection was forcibly closed by the remote host', None, 10054, None))': /simple/google-auth-oauthlib/\n",
      "WARNING: Retrying (Retry(total=3, connect=None, read=None, redirect=None, status=None)) after connection broken by 'ProtocolError('Connection aborted.', ConnectionResetError(10054, 'An existing connection was forcibly closed by the remote host', None, 10054, None))': /simple/google-auth-oauthlib/\n",
      "WARNING: Retrying (Retry(total=2, connect=None, read=None, redirect=None, status=None)) after connection broken by 'ProtocolError('Connection aborted.', ConnectionResetError(10054, 'An existing connection was forcibly closed by the remote host', None, 10054, None))': /simple/google-auth-oauthlib/\n",
      "WARNING: Retrying (Retry(total=1, connect=None, read=None, redirect=None, status=None)) after connection broken by 'ProtocolError('Connection aborted.', ConnectionResetError(10054, 'An existing connection was forcibly closed by the remote host', None, 10054, None))': /simple/google-auth-oauthlib/\n",
      "WARNING: Retrying (Retry(total=0, connect=None, read=None, redirect=None, status=None)) after connection broken by 'ProtocolError('Connection aborted.', ConnectionResetError(10054, 'An existing connection was forcibly closed by the remote host', None, 10054, None))': /simple/google-auth-oauthlib/\n"
     ]
    }
   ],
   "source": [
    "pip install --upgrade google-auth-oauthlib"
   ]
  },
  {
   "cell_type": "code",
   "execution_count": null,
   "id": "ff42e8c3",
   "metadata": {},
   "outputs": [],
   "source": [
    "# Create a connection object.\n",
    "conn = connect()\n",
    "\n",
    "# Perform SQL query on the Google Sheet.\n",
    "# Uses st.cache to only rerun when the query changes or after 10 min.\n",
    "@st.cache(ttl=600)\n",
    "def run_query(query):\n",
    "    rows = conn.execute(query, headers=1)\n",
    "    return rows\n",
    "\n",
    "\n",
    "\n",
    "# Print results.\n",
    "for row in rows:\n",
    "    st.write(f\"{row.Firstname} {row.Lastname}:\")"
   ]
  },
  {
   "cell_type": "code",
   "execution_count": null,
   "id": "b94affe6",
   "metadata": {},
   "outputs": [],
   "source": [
    "streamlit run C:\\Users\\gtp43728\\Anaconda3\\lib\\site-packages\\ipykernel_launcher.py"
   ]
  },
  {
   "cell_type": "code",
   "execution_count": null,
   "id": "aa8bba6c",
   "metadata": {},
   "outputs": [],
   "source": [
    "pip install toml"
   ]
  },
  {
   "cell_type": "code",
   "execution_count": 13,
   "id": "0d2e78b0",
   "metadata": {},
   "outputs": [
    {
     "name": "stdout",
     "output_type": "stream",
     "text": [
      "[1 2 3 4 5 6 7 8]\n",
      "[[[1 2]\n",
      "  [3 4]]\n",
      "\n",
      " [[5 6]\n",
      "  [7 8]]]\n"
     ]
    }
   ],
   "source": [
    "import numpy as np\n",
    "a=np.arange(1,9)\n",
    "print(a)\n",
    "b=a.reshape(2,2,2)\n",
    "print(b)"
   ]
  },
  {
   "cell_type": "code",
   "execution_count": 15,
   "id": "577c0ca2",
   "metadata": {},
   "outputs": [
    {
     "name": "stdout",
     "output_type": "stream",
     "text": [
      "[5 7]\n"
     ]
    }
   ],
   "source": [
    "print(np.amin(b[1],1))"
   ]
  },
  {
   "cell_type": "code",
   "execution_count": null,
   "id": "83c89900",
   "metadata": {},
   "outputs": [],
   "source": []
  }
 ],
 "metadata": {
  "kernelspec": {
   "display_name": "Python 3",
   "language": "python",
   "name": "python3"
  },
  "language_info": {
   "codemirror_mode": {
    "name": "ipython",
    "version": 3
   },
   "file_extension": ".py",
   "mimetype": "text/x-python",
   "name": "python",
   "nbconvert_exporter": "python",
   "pygments_lexer": "ipython3",
   "version": "3.8.8"
  }
 },
 "nbformat": 4,
 "nbformat_minor": 5
}
