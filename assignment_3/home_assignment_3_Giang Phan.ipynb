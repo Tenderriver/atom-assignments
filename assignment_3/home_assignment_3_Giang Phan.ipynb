{
  "nbformat": 4,
  "nbformat_minor": 0,
  "metadata": {
    "colab": {
      "name": "Slack-Data.ipynb",
      "provenance": [],
      "collapsed_sections": []
    },
    "kernelspec": {
      "name": "python388jvsc74a57bd095c10dbc6f7eccef0c1ace84822d618f7863d3bc26cab307fc0169bb43c23fbe",
      "display_name": "Python 3.8.8 64-bit ('base': conda)"
    },
    "language_info": {
      "name": "python",
      "version": "3.8.8"
    },
    "metadata": {
      "interpreter": {
        "hash": "62dd3240b58df948d7d639430d151780f17d290328eb9dfb666ef086005b0d99"
      }
    }
  },
  "cells": [
    {
      "cell_type": "markdown",
      "metadata": {
        "id": "4w2e0D-hni2p"
      },
      "source": [
        "# HOME ASSIGNMENT #3: SLACK API - TO GSHEET\n",
        "**Mục đích của bài Assignment**\n",
        "- Lấy thông tin các Users từ Slack của DataCracy (BTC, Mentors và Learners)\n",
        "- `**[Optional 1]**` Đưa danh sách Users lên Google Spreadsheet, để theo dõi \n",
        "- `**[Optional 2]**` Lấy thông tin Assignment Submission và số Reviews trên `#atom-assignmentnt2` và cập nhật lên Spreadsheet, để theo dõi các học viên đã nộp bài và được review\n",
        "\n",
        "**Các kiến thức sẽ áp dụng**\n",
        "- Ôn lại và luyện tập thêm về concept API (cụ thể sử dụng API Slack)\n",
        "- Trích xuất thông tin từ JSON\n",
        "- Dùng module gspread để đưa thông tin lên Google Spreadsheet"
      ]
    },
    {
      "cell_type": "markdown",
      "metadata": {
        "id": "yitICPVzpRI2"
      },
      "source": [
        "## 0. Load Modules"
      ]
    },
    {
      "cell_type": "code",
      "metadata": {
        "id": "G_HCucZ5rSHq"
      },
      "source": [
        "import requests #-> Để gọi API\n",
        "import re #-> Để xử lý data dạng string\n",
        "from datetime import datetime as dt #-> Để xử lý data dạng datetime\n",
        "import gspread #-> Để update data lên Google Spreadsheet\n",
        "from gspread_dataframe import set_with_dataframe #-> Để update data lên Google Spreadsheet\n",
        "import pandas as pd #-> Để update data dạng bản\n",
        "import json \n",
        "from oauth2client.service_account import ServiceAccountCredentials #-> Để nhập Google Spreadsheet Credentials\n",
        "import os"
      ],
      "execution_count": 81,
      "outputs": []
    },
    {
      "cell_type": "markdown",
      "metadata": {
        "id": "z7HOk6uMp2K2"
      },
      "source": [
        "## 1. Slack API: User List\n",
        "* Bạn có thể đọc lại về concept API [HERE](https://anhdang.gitbook.io/datacracy/atom/3-data-tools-2/3.2-spotify-api-and-postman)\n",
        "* Assignment này sẽ dùng Slack API để lấy thông tin về Learners và theo dõi các bài tập đã nộp và được review (sau đó cập nhật lên Google Spreadsheet)\n",
        "* ===> **NOTICE**: Slack API authorize bằng Bearer Token `xoxb-...-...-...` (Sẽ được cung cấp riêng)\n",
        "* Update file `env_variable.json` như trong [Assignment#2](../assignment_2/home_assignment_2.ipynb)\n",
        "* ==> Nếu bạn dùng Google Colab, upload file vào Colab ([Hướng dẫn](https://colab.research.google.com/notebooks/io.ipynb))"
      ]
    },
    {
      "cell_type": "code",
      "metadata": {
        "colab": {
          "base_uri": "https://localhost:8080/"
        },
        "id": "YoSEHfdTwYRj",
        "outputId": "02b1f5e1-6f9a-4c2b-a481-33284324d1cc"
      },
      "source": [
        "!ls"
      ],
      "execution_count": 82,
      "outputs": [
        {
          "output_type": "stream",
          "name": "stderr",
          "text": [
            "'ls' is not recognized as an internal or external command,\noperable program or batch file.\n"
          ]
        }
      ]
    },
    {
      "cell_type": "code",
      "metadata": {
        "id": "tFPqT2pirhy4"
      },
      "source": [
        "with open('env_variable.json', 'r') as j:\n",
        "    json_data = json.load(j)\n",
        "   "
      ],
      "execution_count": 100,
      "outputs": []
    },
    {
      "cell_type": "code",
      "metadata": {
        "id": "wAzmaVTLrpvH"
      },
      "source": [
        "## Load SLACK_BEARER_TOKEN\n",
        "os.environ['SLACK_BEARER_TOKEN'] = json_data['SLACK_BEARER_TOKEN'] "
      ],
      "execution_count": 84,
      "outputs": []
    },
    {
      "cell_type": "code",
      "metadata": {
        "id": "K_TrDTx138jD",
        "tags": [
          "outputPrepend"
        ]
      },
      "source": [
        "## Gọi API từ Endpoints (Input - Token được đưa vào Headers)\n",
        "## Challenge: Thử gọi API này bằng Postman\n",
        "endpoint = \"https://slack.com/api/users.list\"\n",
        "headers = {\"Authorization\": \"Bearer {}\".format(os.environ['SLACK_BEARER_TOKEN'])}\n",
        "response_json = requests.post(endpoint, headers=headers).json() \n",
        "print(response_json)\n",
        "user_dat = response_json['members']\n"
      ],
      "execution_count": 85,
      "outputs": [
        {
          "output_type": "stream",
          "name": "stdout",
          "text": [
            "yen Thi Nhi', 'tz': 'Asia/Bangkok', 'tz_label': 'Indochina Time', 'tz_offset': 25200, 'profile': {'title': '', 'phone': '', 'skype': '', 'real_name': 'Huong Nguyen Thi Nhi', 'real_name_normalized': 'Huong Nguyen Thi Nhi', 'display_name': '', 'display_name_normalized': '', 'fields': None, 'status_text': '', 'status_emoji': '', 'status_expiration': 0, 'avatar_hash': 'g8113195cce9', 'image_24': 'https://secure.gravatar.com/avatar/8113195cce95637d2736ea73399168d8.jpg?s=24&d=https%3A%2F%2Fa.slack-edge.com%2Fdf10d%2Fimg%2Favatars%2Fava_0007-24.png', 'image_32': 'https://secure.gravatar.com/avatar/8113195cce95637d2736ea73399168d8.jpg?s=32&d=https%3A%2F%2Fa.slack-edge.com%2Fdf10d%2Fimg%2Favatars%2Fava_0007-32.png', 'image_48': 'https://secure.gravatar.com/avatar/8113195cce95637d2736ea73399168d8.jpg?s=48&d=https%3A%2F%2Fa.slack-edge.com%2Fdf10d%2Fimg%2Favatars%2Fava_0007-48.png', 'image_72': 'https://secure.gravatar.com/avatar/8113195cce95637d2736ea73399168d8.jpg?s=72&d=https%3A%2F%2Fa.slack-edge.com%2Fdf10d%2Fimg%2Favatars%2Fava_0007-72.png', 'image_192': 'https://secure.gravatar.com/avatar/8113195cce95637d2736ea73399168d8.jpg?s=192&d=https%3A%2F%2Fa.slack-edge.com%2Fdf10d%2Fimg%2Favatars%2Fava_0007-192.png', 'image_512': 'https://secure.gravatar.com/avatar/8113195cce95637d2736ea73399168d8.jpg?s=512&d=https%3A%2F%2Fa.slack-edge.com%2Fdf10d%2Fimg%2Favatars%2Fava_0007-512.png', 'status_text_canonical': '', 'team': 'T01B7SGGMLJ'}, 'is_admin': False, 'is_owner': False, 'is_primary_owner': False, 'is_restricted': False, 'is_ultra_restricted': False, 'is_bot': False, 'is_app_user': False, 'updated': 1619409574, 'is_email_confirmed': True}, {'id': 'U021NF9FMPH', 'team_id': 'T01B7SGGMLJ', 'name': 'ngochant', 'deleted': False, 'color': '2b6836', 'real_name': 'ngochant', 'tz': 'America/Los_Angeles', 'tz_label': 'Pacific Daylight Time', 'tz_offset': -25200, 'profile': {'title': '', 'phone': '', 'skype': '', 'real_name': 'ngochant', 'real_name_normalized': 'ngochant', 'display_name': '', 'display_name_normalized': '', 'fields': None, 'status_text': '', 'status_emoji': '', 'status_expiration': 0, 'avatar_hash': 'g0823dc0128f', 'api_app_id': 'A021NCWKYR5', 'always_active': False, 'bot_id': 'B0223ET64SF', 'first_name': 'ngochant', 'last_name': '', 'image_24': 'https://secure.gravatar.com/avatar/0823dc0128f48c06a4c0e2ea08784b6d.jpg?s=24&d=https%3A%2F%2Fa.slack-edge.com%2Fdf10d%2Fimg%2Favatars%2Fava_0007-24.png', 'image_32': 'https://secure.gravatar.com/avatar/0823dc0128f48c06a4c0e2ea08784b6d.jpg?s=32&d=https%3A%2F%2Fa.slack-edge.com%2Fdf10d%2Fimg%2Favatars%2Fava_0007-32.png', 'image_48': 'https://secure.gravatar.com/avatar/0823dc0128f48c06a4c0e2ea08784b6d.jpg?s=48&d=https%3A%2F%2Fa.slack-edge.com%2Fdf10d%2Fimg%2Favatars%2Fava_0007-48.png', 'image_72': 'https://secure.gravatar.com/avatar/0823dc0128f48c06a4c0e2ea08784b6d.jpg?s=72&d=https%3A%2F%2Fa.slack-edge.com%2Fdf10d%2Fimg%2Favatars%2Fava_0007-72.png', 'image_192': 'https://secure.gravatar.com/avatar/0823dc0128f48c06a4c0e2ea08784b6d.jpg?s=192&d=https%3A%2F%2Fa.slack-edge.com%2Fdf10d%2Fimg%2Favatars%2Fava_0007-192.png', 'image_512': 'https://secure.gravatar.com/avatar/0823dc0128f48c06a4c0e2ea08784b6d.jpg?s=512&d=https%3A%2F%2Fa.slack-edge.com%2Fdf10d%2Fimg%2Favatars%2Fava_0007-512.png', 'status_text_canonical': '', 'team': 'T01B7SGGMLJ'}, 'is_admin': False, 'is_owner': False, 'is_primary_owner': False, 'is_restricted': False, 'is_ultra_restricted': False, 'is_bot': True, 'is_app_user': False, 'updated': 1621251673, 'is_email_confirmed': False}, {'id': 'U021TFMH1RU', 'team_id': 'T01B7SGGMLJ', 'name': 'mquang.151999', 'deleted': False, 'color': 'e0a729', 'real_name': 'Quang Nguyen', 'tz': 'Asia/Bangkok', 'tz_label': 'Indochina Time', 'tz_offset': 25200, 'profile': {'title': '', 'phone': '', 'skype': '', 'real_name': 'Quang Nguyen', 'real_name_normalized': 'Quang Nguyen', 'display_name': 'Quang Nguyen', 'display_name_normalized': 'Quang Nguyen', 'fields': None, 'status_text': '', 'status_emoji': '', 'status_expiration': 0, 'avatar_hash': 'g1c0825ac54f', 'image_24': 'https://secure.gravatar.com/avatar/1c0825ac54fb81361b0d6c82bb67fc66.jpg?s=24&d=https%3A%2F%2Fa.slack-edge.com%2Fdf10d%2Fimg%2Favatars%2Fava_0026-24.png', 'image_32': 'https://secure.gravatar.com/avatar/1c0825ac54fb81361b0d6c82bb67fc66.jpg?s=32&d=https%3A%2F%2Fa.slack-edge.com%2Fdf10d%2Fimg%2Favatars%2Fava_0026-32.png', 'image_48': 'https://secure.gravatar.com/avatar/1c0825ac54fb81361b0d6c82bb67fc66.jpg?s=48&d=https%3A%2F%2Fa.slack-edge.com%2Fdf10d%2Fimg%2Favatars%2Fava_0026-48.png', 'image_72': 'https://secure.gravatar.com/avatar/1c0825ac54fb81361b0d6c82bb67fc66.jpg?s=72&d=https%3A%2F%2Fa.slack-edge.com%2Fdf10d%2Fimg%2Favatars%2Fava_0026-72.png', 'image_192': 'https://secure.gravatar.com/avatar/1c0825ac54fb81361b0d6c82bb67fc66.jpg?s=192&d=https%3A%2F%2Fa.slack-edge.com%2Fdf10d%2Fimg%2Favatars%2Fava_0026-192.png', 'image_512': 'https://secure.gravatar.com/avatar/1c0825ac54fb81361b0d6c82bb67fc66.jpg?s=512&d=https%3A%2F%2Fa.slack-edge.com%2Fdf10d%2Fimg%2Favatars%2Fava_0026-512.png', 'status_text_canonical': '', 'team': 'T01B7SGGMLJ'}, 'is_admin': False, 'is_owner': False, 'is_primary_owner': False, 'is_restricted': False, 'is_ultra_restricted': False, 'is_bot': False, 'is_app_user': False, 'updated': 1621046249, 'is_email_confirmed': True}, {'id': 'U021Y57RMN1', 'team_id': 'T01B7SGGMLJ', 'name': 'lamlv723', 'deleted': False, 'color': '5b89d5', 'real_name': 'Lâm Lê', 'tz': 'Asia/Bangkok', 'tz_label': 'Indochina Time', 'tz_offset': 25200, 'profile': {'title': '', 'phone': '', 'skype': '', 'real_name': 'Lâm Lê', 'real_name_normalized': 'Lam Le', 'display_name': 'Lâm Lê', 'display_name_normalized': 'Lam Le', 'fields': None, 'status_text': '', 'status_emoji': '', 'status_expiration': 0, 'avatar_hash': '73cf448f226a', 'image_original': 'https://avatars.slack-edge.com/2021-05-15/2054484743655_73cf448f226a25744ba9_original.jpg', 'is_custom_image': True, 'image_24': 'https://avatars.slack-edge.com/2021-05-15/2054484743655_73cf448f226a25744ba9_24.jpg', 'image_32': 'https://avatars.slack-edge.com/2021-05-15/2054484743655_73cf448f226a25744ba9_32.jpg', 'image_48': 'https://avatars.slack-edge.com/2021-05-15/2054484743655_73cf448f226a25744ba9_48.jpg', 'image_72': 'https://avatars.slack-edge.com/2021-05-15/2054484743655_73cf448f226a25744ba9_72.jpg', 'image_192': 'https://avatars.slack-edge.com/2021-05-15/2054484743655_73cf448f226a25744ba9_192.jpg', 'image_512': 'https://avatars.slack-edge.com/2021-05-15/2054484743655_73cf448f226a25744ba9_512.jpg', 'image_1024': 'https://avatars.slack-edge.com/2021-05-15/2054484743655_73cf448f226a25744ba9_1024.jpg', 'status_text_canonical': '', 'team': 'T01B7SGGMLJ'}, 'is_admin': False, 'is_owner': False, 'is_primary_owner': False, 'is_restricted': False, 'is_ultra_restricted': False, 'is_bot': False, 'is_app_user': False, 'updated': 1621134074, 'is_email_confirmed': True}, {'id': 'U02246KN5D1', 'team_id': 'T01B7SGGMLJ', 'name': 'conversationslist', 'deleted': False, 'color': '99a949', 'real_name': '/conversations.list', 'tz': 'America/Los_Angeles', 'tz_label': 'Pacific Daylight Time', 'tz_offset': -25200, 'profile': {'title': '', 'phone': '', 'skype': '', 'real_name': '/conversations.list', 'real_name_normalized': '/conversations.list', 'display_name': '', 'display_name_normalized': '', 'fields': None, 'status_text': '', 'status_emoji': '', 'status_expiration': 0, 'avatar_hash': 'gf455d759ea9', 'api_app_id': 'A02246BLA1Z', 'always_active': False, 'bot_id': 'B02240BHX5G', 'first_name': '/conversations.list', 'last_name': '', 'image_24': 'https://secure.gravatar.com/avatar/f455d759ea9019fc97f9257dd56b34aa.jpg?s=24&d=https%3A%2F%2Fa.slack-edge.com%2Fdf10d%2Fimg%2Favatars%2Fava_0008-24.png', 'image_32': 'https://secure.gravatar.com/avatar/f455d759ea9019fc97f9257dd56b34aa.jpg?s=32&d=https%3A%2F%2Fa.slack-edge.com%2Fdf10d%2Fimg%2Favatars%2Fava_0008-32.png', 'image_48': 'https://secure.gravatar.com/avatar/f455d759ea9019fc97f9257dd56b34aa.jpg?s=48&d=https%3A%2F%2Fa.slack-edge.com%2Fdf10d%2Fimg%2Favatars%2Fava_0008-48.png', 'image_72': 'https://secure.gravatar.com/avatar/f455d759ea9019fc97f9257dd56b34aa.jpg?s=72&d=https%3A%2F%2Fa.slack-edge.com%2Fdf10d%2Fimg%2Favatars%2Fava_0008-72.png', 'image_192': 'https://secure.gravatar.com/avatar/f455d759ea9019fc97f9257dd56b34aa.jpg?s=192&d=https%3A%2F%2Fa.slack-edge.com%2Fdf10d%2Fimg%2Favatars%2Fava_0008-192.png', 'image_512': 'https://secure.gravatar.com/avatar/f455d759ea9019fc97f9257dd56b34aa.jpg?s=512&d=https%3A%2F%2Fa.slack-edge.com%2Fdf10d%2Fimg%2Favatars%2Fava_0008-512.png', 'status_text_canonical': '', 'team': 'T01B7SGGMLJ'}, 'is_admin': False, 'is_owner': False, 'is_primary_owner': False, 'is_restricted': False, 'is_ultra_restricted': False, 'is_bot': True, 'is_app_user': False, 'updated': 1621390880, 'is_email_confirmed': False}, {'id': 'U0226MQ73MJ', 'team_id': 'T01B7SGGMLJ', 'name': 'mad', 'deleted': False, 'color': '684b6c', 'real_name': 'MAD', 'tz': 'America/Los_Angeles', 'tz_label': 'Pacific Daylight Time', 'tz_offset': -25200, 'profile': {'title': '', 'phone': '', 'skype': '', 'real_name': 'MAD', 'real_name_normalized': 'MAD', 'display_name': '', 'display_name_normalized': '', 'fields': None, 'status_text': '', 'status_emoji': '', 'status_expiration': 0, 'avatar_hash': 'ga147329c4ca', 'api_app_id': 'A0220GDHWJW', 'always_active': False, 'bot_id': 'B022QB4TL9W', 'first_name': 'MAD', 'last_name': '', 'image_24': 'https://secure.gravatar.com/avatar/a147329c4ca6735286d053d06784665c.jpg?s=24&d=https%3A%2F%2Fa.slack-edge.com%2Fdf10d%2Fimg%2Favatars%2Fava_0001-24.png', 'image_32': 'https://secure.gravatar.com/avatar/a147329c4ca6735286d053d06784665c.jpg?s=32&d=https%3A%2F%2Fa.slack-edge.com%2Fdf10d%2Fimg%2Favatars%2Fava_0001-32.png', 'image_48': 'https://secure.gravatar.com/avatar/a147329c4ca6735286d053d06784665c.jpg?s=48&d=https%3A%2F%2Fa.slack-edge.com%2Fdf10d%2Fimg%2Favatars%2Fava_0001-48.png', 'image_72': 'https://secure.gravatar.com/avatar/a147329c4ca6735286d053d06784665c.jpg?s=72&d=https%3A%2F%2Fa.slack-edge.com%2Fdf10d%2Fimg%2Favatars%2Fava_0001-72.png', 'image_192': 'https://secure.gravatar.com/avatar/a147329c4ca6735286d053d06784665c.jpg?s=192&d=https%3A%2F%2Fa.slack-edge.com%2Fdf10d%2Fimg%2Favatars%2Fava_0001-192.png', 'image_512': 'https://secure.gravatar.com/avatar/a147329c4ca6735286d053d06784665c.jpg?s=512&d=https%3A%2F%2Fa.slack-edge.com%2Fdf10d%2Fimg%2Favatars%2Fava_0001-512.png', 'status_text_canonical': '', 'team': 'T01B7SGGMLJ'}, 'is_admin': False, 'is_owner': False, 'is_primary_owner': False, 'is_restricted': False, 'is_ultra_restricted': False, 'is_bot': True, 'is_app_user': False, 'updated': 1621756457, 'is_email_confirmed': False}, {'id': 'U022BEV3FEW', 'team_id': 'T01B7SGGMLJ', 'name': 'convhist', 'deleted': False, 'color': 'df3dc0', 'real_name': 'conv.hist', 'tz': 'America/Los_Angeles', 'tz_label': 'Pacific Daylight Time', 'tz_offset': -25200, 'profile': {'title': '', 'phone': '', 'skype': '', 'real_name': 'conv.hist', 'real_name_normalized': 'conv.hist', 'display_name': '', 'display_name_normalized': '', 'fields': None, 'status_text': '', 'status_emoji': '', 'status_expiration': 0, 'avatar_hash': 'ga71d9b3bda0', 'api_app_id': 'A022Q3GUJTB', 'always_active': False, 'bot_id': 'B022BM39LSF', 'first_name': 'conv.hist', 'last_name': '', 'image_24': 'https://secure.gravatar.com/avatar/a71d9b3bda0aecbd692b6eb0de33f162.jpg?s=24&d=https%3A%2F%2Fa.slack-edge.com%2Fdf10d%2Fimg%2Favatars%2Fava_0002-24.png', 'image_32': 'https://secure.gravatar.com/avatar/a71d9b3bda0aecbd692b6eb0de33f162.jpg?s=32&d=https%3A%2F%2Fa.slack-edge.com%2Fdf10d%2Fimg%2Favatars%2Fava_0002-32.png', 'image_48': 'https://secure.gravatar.com/avatar/a71d9b3bda0aecbd692b6eb0de33f162.jpg?s=48&d=https%3A%2F%2Fa.slack-edge.com%2Fdf10d%2Fimg%2Favatars%2Fava_0002-48.png', 'image_72': 'https://secure.gravatar.com/avatar/a71d9b3bda0aecbd692b6eb0de33f162.jpg?s=72&d=https%3A%2F%2Fa.slack-edge.com%2Fdf10d%2Fimg%2Favatars%2Fava_0002-72.png', 'image_192': 'https://secure.gravatar.com/avatar/a71d9b3bda0aecbd692b6eb0de33f162.jpg?s=192&d=https%3A%2F%2Fa.slack-edge.com%2Fdf10d%2Fimg%2Favatars%2Fava_0002-192.png', 'image_512': 'https://secure.gravatar.com/avatar/a71d9b3bda0aecbd692b6eb0de33f162.jpg?s=512&d=https%3A%2F%2Fa.slack-edge.com%2Fdf10d%2Fimg%2Favatars%2Fava_0002-512.png', 'status_text_canonical': '', 'team': 'T01B7SGGMLJ'}, 'is_admin': False, 'is_owner': False, 'is_primary_owner': False, 'is_restricted': False, 'is_ultra_restricted': False, 'is_bot': True, 'is_app_user': False, 'updated': 1621391358, 'is_email_confirmed': False}, {'id': 'U022J0SQAMQ', 'team_id': 'T01B7SGGMLJ', 'name': 'abc', 'deleted': False, 'color': '4cc091', 'real_name': 'abc', 'tz': 'America/Los_Angeles', 'tz_label': 'Pacific Daylight Time', 'tz_offset': -25200, 'profile': {'title': '', 'phone': '', 'skype': '', 'real_name': 'abc', 'real_name_normalized': 'abc', 'display_name': '', 'display_name_normalized': '', 'fields': None, 'status_text': '', 'status_emoji': '', 'status_expiration': 0, 'avatar_hash': 'gc61c18c89c7', 'api_app_id': 'A022B6B3F8W', 'always_active': False, 'bot_id': 'B022B7ANQES', 'image_24': 'https://secure.gravatar.com/avatar/c61c18c89c7377a9e2da92cae356da39.jpg?s=24&d=https%3A%2F%2Fa.slack-edge.com%2Fdf10d%2Fimg%2Favatars%2Fava_0025-24.png', 'image_32': 'https://secure.gravatar.com/avatar/c61c18c89c7377a9e2da92cae356da39.jpg?s=32&d=https%3A%2F%2Fa.slack-edge.com%2Fdf10d%2Fimg%2Favatars%2Fava_0025-32.png', 'image_48': 'https://secure.gravatar.com/avatar/c61c18c89c7377a9e2da92cae356da39.jpg?s=48&d=https%3A%2F%2Fa.slack-edge.com%2Fdf10d%2Fimg%2Favatars%2Fava_0025-48.png', 'image_72': 'https://secure.gravatar.com/avatar/c61c18c89c7377a9e2da92cae356da39.jpg?s=72&d=https%3A%2F%2Fa.slack-edge.com%2Fdf10d%2Fimg%2Favatars%2Fava_0025-72.png', 'image_192': 'https://secure.gravatar.com/avatar/c61c18c89c7377a9e2da92cae356da39.jpg?s=192&d=https%3A%2F%2Fa.slack-edge.com%2Fdf10d%2Fimg%2Favatars%2Fava_0025-192.png', 'image_512': 'https://secure.gravatar.com/avatar/c61c18c89c7377a9e2da92cae356da39.jpg?s=512&d=https%3A%2F%2Fa.slack-edge.com%2Fdf10d%2Fimg%2Favatars%2Fava_0025-512.png', 'status_text_canonical': '', 'team': 'T01B7SGGMLJ'}, 'is_admin': False, 'is_owner': False, 'is_primary_owner': False, 'is_restricted': False, 'is_ultra_restricted': False, 'is_bot': True, 'is_app_user': False, 'updated': 1621515900, 'is_email_confirmed': False}, {'id': 'U022R4885AN', 'team_id': 'T01B7SGGMLJ', 'name': '78', 'deleted': False, 'color': 'bb86b7', 'real_name': '78', 'tz': 'America/Los_Angeles', 'tz_label': 'Pacific Daylight Time', 'tz_offset': -25200, 'profile': {'title': '', 'phone': '', 'skype': '', 'real_name': '78', 'real_name_normalized': '78', 'display_name': '', 'display_name_normalized': '', 'fields': None, 'status_text': '', 'status_emoji': '', 'status_expiration': 0, 'avatar_hash': 'gd082bd59567', 'api_app_id': 'A023ETPS7SL', 'always_active': False, 'bot_id': 'B022RAGK81H', 'image_24': 'https://secure.gravatar.com/avatar/d082bd595679aa34ea6a9f759c743664.jpg?s=24&d=https%3A%2F%2Fa.slack-edge.com%2Fdf10d%2Fimg%2Favatars%2Fava_0018-24.png', 'image_32': 'https://secure.gravatar.com/avatar/d082bd595679aa34ea6a9f759c743664.jpg?s=32&d=https%3A%2F%2Fa.slack-edge.com%2Fdf10d%2Fimg%2Favatars%2Fava_0018-32.png', 'image_48': 'https://secure.gravatar.com/avatar/d082bd595679aa34ea6a9f759c743664.jpg?s=48&d=https%3A%2F%2Fa.slack-edge.com%2Fdf10d%2Fimg%2Favatars%2Fava_0018-48.png', 'image_72': 'https://secure.gravatar.com/avatar/d082bd595679aa34ea6a9f759c743664.jpg?s=72&d=https%3A%2F%2Fa.slack-edge.com%2Fdf10d%2Fimg%2Favatars%2Fava_0018-72.png', 'image_192': 'https://secure.gravatar.com/avatar/d082bd595679aa34ea6a9f759c743664.jpg?s=192&d=https%3A%2F%2Fa.slack-edge.com%2Fdf10d%2Fimg%2Favatars%2Fava_0018-192.png', 'image_512': 'https://secure.gravatar.com/avatar/d082bd595679aa34ea6a9f759c743664.jpg?s=512&d=https%3A%2F%2Fa.slack-edge.com%2Fdf10d%2Fimg%2Favatars%2Fava_0018-512.png', 'status_text_canonical': '', 'team': 'T01B7SGGMLJ'}, 'is_admin': False, 'is_owner': False, 'is_primary_owner': False, 'is_restricted': False, 'is_ultra_restricted': False, 'is_bot': True, 'is_app_user': False, 'updated': 1621658464, 'is_email_confirmed': False}, {'id': 'U0233KHLM2M', 'team_id': 'T01B7SGGMLJ', 'name': 'vuthanhdat.contact', 'deleted': False, 'color': 'd58247', 'real_name': 'Vuthanhdat Contact', 'tz': 'Asia/Bangkok', 'tz_label': 'Indochina Time', 'tz_offset': 25200, 'profile': {'title': '', 'phone': '', 'skype': '', 'real_name': 'Vuthanhdat Contact', 'real_name_normalized': 'Vuthanhdat Contact', 'display_name': '', 'display_name_normalized': '', 'fields': None, 'status_text': '', 'status_emoji': '', 'status_expiration': 0, 'avatar_hash': 'g72ade5f0a21', 'image_24': 'https://secure.gravatar.com/avatar/72ade5f0a2147dfa9516ec249642979f.jpg?s=24&d=https%3A%2F%2Fa.slack-edge.com%2Fdf10d%2Fimg%2Favatars%2Fava_0007-24.png', 'image_32': 'https://secure.gravatar.com/avatar/72ade5f0a2147dfa9516ec249642979f.jpg?s=32&d=https%3A%2F%2Fa.slack-edge.com%2Fdf10d%2Fimg%2Favatars%2Fava_0007-32.png', 'image_48': 'https://secure.gravatar.com/avatar/72ade5f0a2147dfa9516ec249642979f.jpg?s=48&d=https%3A%2F%2Fa.slack-edge.com%2Fdf10d%2Fimg%2Favatars%2Fava_0007-48.png', 'image_72': 'https://secure.gravatar.com/avatar/72ade5f0a2147dfa9516ec249642979f.jpg?s=72&d=https%3A%2F%2Fa.slack-edge.com%2Fdf10d%2Fimg%2Favatars%2Fava_0007-72.png', 'image_192': 'https://secure.gravatar.com/avatar/72ade5f0a2147dfa9516ec249642979f.jpg?s=192&d=https%3A%2F%2Fa.slack-edge.com%2Fdf10d%2Fimg%2Favatars%2Fava_0007-192.png', 'image_512': 'https://secure.gravatar.com/avatar/72ade5f0a2147dfa9516ec249642979f.jpg?s=512&d=https%3A%2F%2Fa.slack-edge.com%2Fdf10d%2Fimg%2Favatars%2Fava_0007-512.png', 'status_text_canonical': '', 'team': 'T01B7SGGMLJ'}, 'is_admin': False, 'is_owner': False, 'is_primary_owner': False, 'is_restricted': False, 'is_ultra_restricted': False, 'is_bot': False, 'is_app_user': False, 'updated': 1621649389, 'is_email_confirmed': False, 'is_invited_user': True}, {'id': 'U023E0BAHQ8', 'team_id': 'T01B7SGGMLJ', 'name': 'testgettoken', 'deleted': False, 'color': '9b3b45', 'real_name': 'test.gettoken', 'tz': 'America/Los_Angeles', 'tz_label': 'Pacific Daylight Time', 'tz_offset': -25200, 'profile': {'title': '', 'phone': '', 'skype': '', 'real_name': 'test.gettoken', 'real_name_normalized': 'test.gettoken', 'display_name': '', 'display_name_normalized': '', 'fields': None, 'status_text': '', 'status_emoji': '', 'status_expiration': 0, 'avatar_hash': 'gc28c6476803', 'api_app_id': 'A022HBW1Z9U', 'always_active': True, 'bot_id': 'B022WAYRETW', 'first_name': 'test.gettoken', 'last_name': '', 'image_24': 'https://secure.gravatar.com/avatar/c28c647680342591290d4dca604303d5.jpg?s=24&d=https%3A%2F%2Fa.slack-edge.com%2Fdf10d%2Fimg%2Favatars%2Fava_0020-24.png', 'image_32': 'https://secure.gravatar.com/avatar/c28c647680342591290d4dca604303d5.jpg?s=32&d=https%3A%2F%2Fa.slack-edge.com%2Fdf10d%2Fimg%2Favatars%2Fava_0020-32.png', 'image_48': 'https://secure.gravatar.com/avatar/c28c647680342591290d4dca604303d5.jpg?s=48&d=https%3A%2F%2Fa.slack-edge.com%2Fdf10d%2Fimg%2Favatars%2Fava_0020-48.png', 'image_72': 'https://secure.gravatar.com/avatar/c28c647680342591290d4dca604303d5.jpg?s=72&d=https%3A%2F%2Fa.slack-edge.com%2Fdf10d%2Fimg%2Favatars%2Fava_0020-72.png', 'image_192': 'https://secure.gravatar.com/avatar/c28c647680342591290d4dca604303d5.jpg?s=192&d=https%3A%2F%2Fa.slack-edge.com%2Fdf10d%2Fimg%2Favatars%2Fava_0020-192.png', 'image_512': 'https://secure.gravatar.com/avatar/c28c647680342591290d4dca604303d5.jpg?s=512&d=https%3A%2F%2Fa.slack-edge.com%2Fdf10d%2Fimg%2Favatars%2Fava_0020-512.png', 'status_text_canonical': '', 'team': 'T01B7SGGMLJ'}, 'is_admin': False, 'is_owner': False, 'is_primary_owner': False, 'is_restricted': False, 'is_ultra_restricted': False, 'is_bot': True, 'is_app_user': False, 'updated': 1621641767, 'is_email_confirmed': False}], 'cache_ts': 1621775457, 'response_metadata': {'next_cursor': ''}}\n"
          ]
        }
      ]
    },
    {
      "cell_type": "markdown",
      "metadata": {
        "id": "rqEti4Y50tdB"
      },
      "source": [
        "### TODO #1\n",
        "Hoàn tất đoạn code sau"
      ]
    },
    {
      "cell_type": "code",
      "metadata": {
        "id": "P0qbkdhtD9ww"
      },
      "source": [
        "## Loop qua JSON file và extract các thông tin quan trọng (id, name, display_name, real_name_normalized, title, phone, is_bot)\n",
        "## Hint: Bạn có thể dùng Postman hoặc in user_dat JSON để xem cấu trúc (schema), dùng Ctrl+F để tìm các keys (id, name, display_name, real_name_normalized, title, phone, is_bot)\n",
        "user_dict = {'user_id':[], 'name':[], 'display_name':[],'real_name':[],'title':[],'phone':[],'is_bot':[]}\n",
        "for i in range(len(user_dat)):\n",
        "  user_dict['user_id'].append(user_dat[i]['id'])\n",
        "  user_dict['name'].append(user_dat[i]['name'])\n",
        "  user_dict['display_name'].append(user_dat[i]['profile']['display_name'])\n",
        "  user_dict['real_name'].append(user_dat[i]['profile']['real_name_normalized'])\n",
        "  user_dict['title'].append(user_dat[i]['profile']['title'])\n",
        "  user_dict['phone'].append(user_dat[i]['profile']['phone'])\n",
        "  user_dict['is_bot'].append(user_dat[i]['is_bot'])"
      ],
      "execution_count": 86,
      "outputs": []
    },
    {
      "cell_type": "code",
      "metadata": {
        "colab": {
          "base_uri": "https://localhost:8080/",
          "height": 204
        },
        "id": "yGNvsCauF8_w",
        "outputId": "dfc4c6f7-845c-4202-8fc7-43aeb328554a"
      },
      "source": [
        "user_df = pd.DataFrame(user_dict) ## Dùng pandas để convert dictionaries thành bảng\n",
        "user_df.head(5) ## Chỉ in 5 dòng đầu (chủ yếu để xem cấu trúc)"
      ],
      "execution_count": 87,
      "outputs": [
        {
          "output_type": "execute_result",
          "data": {
            "text/plain": [
              "       user_id               name       display_name           real_name  \\\n",
              "0    USLACKBOT           slackbot           Slackbot            Slackbot   \n",
              "1  U01AT4T75JB     loclexuan26392        Loc Le Xuan         Loc Le Xuan   \n",
              "2  U01AVDY7JET           locle.ds        Loc Le Xuan         Loc Le Xuan   \n",
              "3  U01BE2PR6LU     maianhdang.ftu                MAD  Dặng Huỳnh Mai Anh   \n",
              "4  U01C48T7S1J  huyenhoang.design  Thanh Huyen Hoang   Thanh Huyen Hoang   \n",
              "\n",
              "                title phone  is_bot  \n",
              "0                             False  \n",
              "1                             False  \n",
              "2                             False  \n",
              "3  Technical Contents         False  \n",
              "4                             False  "
            ],
            "text/html": "<div>\n<style scoped>\n    .dataframe tbody tr th:only-of-type {\n        vertical-align: middle;\n    }\n\n    .dataframe tbody tr th {\n        vertical-align: top;\n    }\n\n    .dataframe thead th {\n        text-align: right;\n    }\n</style>\n<table border=\"1\" class=\"dataframe\">\n  <thead>\n    <tr style=\"text-align: right;\">\n      <th></th>\n      <th>user_id</th>\n      <th>name</th>\n      <th>display_name</th>\n      <th>real_name</th>\n      <th>title</th>\n      <th>phone</th>\n      <th>is_bot</th>\n    </tr>\n  </thead>\n  <tbody>\n    <tr>\n      <th>0</th>\n      <td>USLACKBOT</td>\n      <td>slackbot</td>\n      <td>Slackbot</td>\n      <td>Slackbot</td>\n      <td></td>\n      <td></td>\n      <td>False</td>\n    </tr>\n    <tr>\n      <th>1</th>\n      <td>U01AT4T75JB</td>\n      <td>loclexuan26392</td>\n      <td>Loc Le Xuan</td>\n      <td>Loc Le Xuan</td>\n      <td></td>\n      <td></td>\n      <td>False</td>\n    </tr>\n    <tr>\n      <th>2</th>\n      <td>U01AVDY7JET</td>\n      <td>locle.ds</td>\n      <td>Loc Le Xuan</td>\n      <td>Loc Le Xuan</td>\n      <td></td>\n      <td></td>\n      <td>False</td>\n    </tr>\n    <tr>\n      <th>3</th>\n      <td>U01BE2PR6LU</td>\n      <td>maianhdang.ftu</td>\n      <td>MAD</td>\n      <td>Dặng Huỳnh Mai Anh</td>\n      <td>Technical Contents</td>\n      <td></td>\n      <td>False</td>\n    </tr>\n    <tr>\n      <th>4</th>\n      <td>U01C48T7S1J</td>\n      <td>huyenhoang.design</td>\n      <td>Thanh Huyen Hoang</td>\n      <td>Thanh Huyen Hoang</td>\n      <td></td>\n      <td></td>\n      <td>False</td>\n    </tr>\n  </tbody>\n</table>\n</div>"
          },
          "metadata": {},
          "execution_count": 87
        }
      ]
    },
    {
      "cell_type": "code",
      "metadata": {
        "colab": {
          "base_uri": "https://localhost:8080/",
          "height": 80
        },
        "id": "rjFcaWdt2ABM",
        "outputId": "1a114985-7608-4421-aa51-1e406cc427eb"
      },
      "source": [
        "user_df[user_df.display_name == 'MAD'] ## Lọc thông tin của MAD, trên DataFrame (bạn có thể Google thêm)"
      ],
      "execution_count": 88,
      "outputs": [
        {
          "output_type": "execute_result",
          "data": {
            "text/plain": [
              "       user_id            name display_name           real_name  \\\n",
              "3  U01BE2PR6LU  maianhdang.ftu          MAD  Dặng Huỳnh Mai Anh   \n",
              "\n",
              "                title phone  is_bot  \n",
              "3  Technical Contents         False  "
            ],
            "text/html": "<div>\n<style scoped>\n    .dataframe tbody tr th:only-of-type {\n        vertical-align: middle;\n    }\n\n    .dataframe tbody tr th {\n        vertical-align: top;\n    }\n\n    .dataframe thead th {\n        text-align: right;\n    }\n</style>\n<table border=\"1\" class=\"dataframe\">\n  <thead>\n    <tr style=\"text-align: right;\">\n      <th></th>\n      <th>user_id</th>\n      <th>name</th>\n      <th>display_name</th>\n      <th>real_name</th>\n      <th>title</th>\n      <th>phone</th>\n      <th>is_bot</th>\n    </tr>\n  </thead>\n  <tbody>\n    <tr>\n      <th>3</th>\n      <td>U01BE2PR6LU</td>\n      <td>maianhdang.ftu</td>\n      <td>MAD</td>\n      <td>Dặng Huỳnh Mai Anh</td>\n      <td>Technical Contents</td>\n      <td></td>\n      <td>False</td>\n    </tr>\n  </tbody>\n</table>\n</div>"
          },
          "metadata": {},
          "execution_count": 88
        }
      ]
    },
    {
      "cell_type": "markdown",
      "metadata": {
        "id": "1TZrcaWZyE07"
      },
      "source": [
        "-------------- HẾT PHẦN BẮT BUỘC ---------------------"
      ]
    },
    {
      "cell_type": "markdown",
      "metadata": {
        "id": "P3_b7zw-1A6s"
      },
      "source": [
        "## Option 1: Update data => Google SpreadSheet"
      ]
    },
    {
      "cell_type": "markdown",
      "metadata": {
        "id": "UPuXhw3WtmWw"
      },
      "source": [
        "### TODO#2\n",
        "Tạo service account (output là file json), file này để cho phép ta access vào Google Spreadsheet:\n",
        "\n",
        "1. Làm theo hướng dẫn: [Google Create a Service Account](https://support.google.com/a/answer/7378726?hl=en)\n",
        "![google_service_account](../img/google_service_account.png)\n",
        "2. Lưu file JSON (chứa credential về máy)\n",
        "![gservice_acc_json](../img/gservice_acc_json.png)\n",
        "3. Nhớ Enable [Google Drive API](https://console.cloud.google.com/marketplace/product/google/drive.googleapis.com?q=search&referrer=search&project=quickstart-313303) (Nếu bạn chạy code báo lỗi chưa enable API thì vào link trong phần lỗi để Enable, sau khi kích hoạt có thể cần vài phút để chạy được)\n",
        "![enable_api](../img/enable_api.png)\n",
        "* ==> Upload file Gsheet Credential JSON nếu bạn dùng Colab \n",
        "* ==> Nếu bạn để key trong repo git, **NHỚ** để file json vào `.gitignore` để không bị leaked key)\n"
      ]
    },
    {
      "cell_type": "code",
      "metadata": {
        "colab": {
          "base_uri": "https://localhost:8080/"
        },
        "id": "XhrcVjXWwldS",
        "outputId": "63133330-f68b-4adf-96a1-6d2c0e08dc70"
      },
      "source": [
        "!ls"
      ],
      "execution_count": 89,
      "outputs": [
        {
          "output_type": "stream",
          "name": "stderr",
          "text": [
            "'ls' is not recognized as an internal or external command,\noperable program or batch file.\n"
          ]
        }
      ]
    },
    {
      "cell_type": "code",
      "metadata": {
        "colab": {
          "base_uri": "https://localhost:8080/"
        },
        "id": "4NEQFu-DNvFC",
        "outputId": "a855fe34-b409-4152-a218-67bfa240396f"
      },
      "source": [
        "## Authorize bằng JSON\n",
        "scope = ['https://spreadsheets.google.com/feeds',\n",
        "         'https://www.googleapis.com/auth/drive']\n",
        "credentials = ServiceAccountCredentials.from_json_keyfile_name(\n",
        "    'assignment-3-314605-56017909bc9c.json', scope)\n",
        "gc = gspread.authorize(credentials)\n",
        "print(\"DONE!\")"
      ],
      "execution_count": 90,
      "outputs": [
        {
          "output_type": "stream",
          "name": "stdout",
          "text": [
            "DONE!\n"
          ]
        }
      ]
    },
    {
      "cell_type": "markdown",
      "metadata": {
        "id": "HELBp0Sdxhzc"
      },
      "source": [
        "**Tạo Spreadsheet**\n",
        "\n",
        "1. Tạo Spreadsheet trên google\n",
        "2. Invite account trong `client_email` (file JSON Gsheet Credential bên trên) vào Spreadsheet (quyền Editor)\n",
        "![enable_api](../img/enable_api.png)\n",
        "3. Lấy `SPREADSHEET_KEY` (nằm trong chính URL của Spreadhstee): `https://docs.google.com/spreadsheets/d/<SPREADSHEET_KEY>/edit#gid=0`\n",
        "\n",
        "![add_gsheet](../img/add_gsheet.png)"
      ]
    },
    {
      "cell_type": "code",
      "metadata": {
        "id": "XlZ8JNB3bZbw"
      },
      "source": [
        "# ACCES GOOGLE SHEET\n",
        "sheet_index_no = 0\n",
        "spreadsheet_key = '1g4Kbc70s2_LmtA4EczDjSMZNZK0c8C-xumZ_bmJ3l0k' # input SPREADSHEET_KEY HERE\n",
        "sh = gc.open_by_key(spreadsheet_key)\n",
        "worksheet = sh.get_worksheet(sheet_index_no) #-> 0 - first sheet, 1 - second sheet etc. \n",
        "\n",
        "# APPEND DATA TO SHEET\n",
        "set_with_dataframe(worksheet, user_df) #-> Upload user_df vào Sheet đầu tiên trong Spreadsheet\n",
        "\n",
        "# DONE: Bây giờ bạn có thể mở spreadsheet và kiểm tra nội dung đã update chứ"
      ],
      "execution_count": 91,
      "outputs": []
    },
    {
      "source": [
        "![slack_user_gsheet](../img/slack_user_gsheet.png)"
      ],
      "cell_type": "markdown",
      "metadata": {}
    },
    {
      "cell_type": "markdown",
      "metadata": {
        "id": "5I15m3ilyA3Y"
      },
      "source": [
        "-------------- HẾT PHẦN OPTION 1 ---------------------"
      ]
    },
    {
      "cell_type": "markdown",
      "metadata": {
        "id": "9aRN9KSczkmr"
      },
      "source": [
        "## Option 2: Ai đã nộp bài?\n"
      ]
    },
    {
      "cell_type": "markdown",
      "metadata": {
        "id": "Pw81ioUz2N0v"
      },
      "source": [
        "### Slack API: Channel List"
      ]
    },
    {
      "cell_type": "code",
      "metadata": {
        "id": "fcdaDaGdz60p"
      },
      "source": [
        "## Gọi SLACK API để list tất cả các channel\n",
        "endpoint = \"https://slack.com/api/conversations.list\"\n",
        "headers = {\"Authorization\": \"Bearer {}\".format(os.environ['SLACK_BEARER_TOKEN'])}\n",
        "response = requests.post(endpoint, headers=headers).json() \n",
        "channel_ls = response['channels']"
      ],
      "execution_count": 92,
      "outputs": []
    },
    {
      "cell_type": "code",
      "metadata": {
        "colab": {
          "base_uri": "https://localhost:8080/"
        },
        "id": "47dUJAPi0Jg5",
        "outputId": "2762f1e8-ff65-4994-c3e5-1ab0f5dc9205"
      },
      "source": [
        "channel_ls[0] ## Thử extract record đầu tiên để xem schema  => name: general, id: C01B4PVGLVB"
      ],
      "execution_count": 93,
      "outputs": [
        {
          "output_type": "execute_result",
          "data": {
            "text/plain": [
              "{'id': 'C01B4PVGLVB',\n",
              " 'name': 'general',\n",
              " 'is_channel': True,\n",
              " 'is_group': False,\n",
              " 'is_im': False,\n",
              " 'created': 1600856703,\n",
              " 'is_archived': False,\n",
              " 'is_general': True,\n",
              " 'unlinked': 0,\n",
              " 'name_normalized': 'general',\n",
              " 'is_shared': False,\n",
              " 'parent_conversation': None,\n",
              " 'creator': 'U01BE2PR6LU',\n",
              " 'is_ext_shared': False,\n",
              " 'is_org_shared': False,\n",
              " 'shared_team_ids': ['T01B7SGGMLJ'],\n",
              " 'pending_shared': [],\n",
              " 'pending_connected_team_ids': [],\n",
              " 'is_pending_ext_shared': False,\n",
              " 'is_member': True,\n",
              " 'is_private': False,\n",
              " 'is_mpim': False,\n",
              " 'topic': {'value': '', 'creator': '', 'last_set': 0},\n",
              " 'purpose': {'value': 'This is the one channel that will always include everyone. It’s a great spot for announcements and team-wide conversations.',\n",
              "  'creator': 'U01BE2PR6LU',\n",
              "  'last_set': 1600856703},\n",
              " 'previous_names': [],\n",
              " 'num_members': 65}"
            ]
          },
          "metadata": {},
          "execution_count": 93
        }
      ]
    },
    {
      "cell_type": "markdown",
      "metadata": {
        "id": "CNFTcFC00l8g"
      },
      "source": [
        "### TODO#3 \n",
        "* Tìm id của channel #atom-assignment2"
      ]
    },
    {
      "cell_type": "code",
      "execution_count": 94,
      "metadata": {},
      "outputs": [
        {
          "output_type": "stream",
          "name": "stdout",
          "text": [
            "C021FSDN7LJ\n"
          ]
        }
      ],
      "source": [
        "for i in range(len(channel_ls)):\n",
        "    if channel_ls[i]['name']==\"atom-assignment2\":\n",
        "        print(channel_ls[i]['id'])\n",
        "\n"
      ]
    },
    {
      "cell_type": "code",
      "metadata": {
        "id": "1UsSESN8rtnk"
      },
      "source": [
        "endpoint = \"https://slack.com/api/conversations.history\"\n",
        "data = {\"channel\": \"C01U6P7LZ8F\"} ## This is ID of assignment#1 channel\n",
        "headers = {\"Authorization\": \"Bearer {}\".format(os.environ['SLACK_BEARER_TOKEN'])}"
      ],
      "execution_count": 95,
      "outputs": []
    },
    {
      "cell_type": "markdown",
      "metadata": {
        "id": "EnCvdYAn2R47"
      },
      "source": [
        "### Slack API: List messages trong 1 channel"
      ]
    },
    {
      "cell_type": "code",
      "metadata": {
        "id": "i8eJw3LBr4lY"
      },
      "source": [
        "response_json = requests.post(endpoint, data=data, headers=headers).json()\n",
        "msg_ls = response_json['messages']"
      ],
      "execution_count": 139,
      "outputs": []
    },
    {
      "cell_type": "code",
      "metadata": {
        "colab": {
          "base_uri": "https://localhost:8080/"
        },
        "id": "KkYO1KcBtZa9",
        "outputId": "7a76397b-202b-445e-aa26-f4b30cfc9a53"
      },
      "source": [
        "msg_ls[21]"
      ],
      "execution_count": 140,
      "outputs": [
        {
          "output_type": "execute_result",
          "data": {
            "text/plain": [
              "{'client_msg_id': 'CB7D6549-3D83-408E-A485-8DCA4C95DC4C',\n",
              " 'type': 'message',\n",
              " 'text': 'Chào mọi người, em gửi assignment 1 ạ: \\n<https://github.com/hoaintp/datacracy-atom-hoaintp|https://github.com/hoaintp/datacracy-atom-hoaintp>\\nHẹn gặp mọi người thứ 7 này :two_hearts:',\n",
              " 'user': 'U01UTGVPE7N',\n",
              " 'ts': '1620136546.001800',\n",
              " 'team': 'T01B7SGGMLJ',\n",
              " 'attachments': [{'fallback': 'hoaintp/datacracy-atom-hoaintp',\n",
              "   'title': 'hoaintp/datacracy-atom-hoaintp',\n",
              "   'id': 1,\n",
              "   'color': '24292f',\n",
              "   'fields': [{'title': 'Language',\n",
              "     'value': 'Jupyter Notebook',\n",
              "     'short': True},\n",
              "    {'title': 'Last updated', 'value': '23 minutes ago', 'short': True}],\n",
              "   'bot_id': 'B01UQU8E2A3',\n",
              "   'app_unfurl_url': 'https://github.com/hoaintp/datacracy-atom-hoaintp',\n",
              "   'is_app_unfurl': True}],\n",
              " 'blocks': [{'type': 'rich_text',\n",
              "   'block_id': 'Ldw',\n",
              "   'elements': [{'type': 'rich_text_section',\n",
              "     'elements': [{'type': 'text',\n",
              "       'text': 'Chào mọi người, em gửi assignment 1 ạ: \\n'},\n",
              "      {'type': 'link',\n",
              "       'url': 'https://github.com/hoaintp/datacracy-atom-hoaintp',\n",
              "       'text': 'https://github.com/hoaintp/datacracy-atom-hoaintp'},\n",
              "      {'type': 'text', 'text': '\\nHẹn gặp mọi người thứ 7 này '},\n",
              "      {'type': 'emoji', 'name': 'two_hearts'}]}]}],\n",
              " 'reactions': [{'name': 'construction', 'users': ['U01UJ9LG5U5'], 'count': 1}]}"
            ]
          },
          "metadata": {},
          "execution_count": 140
        }
      ]
    },
    {
      "cell_type": "code",
      "metadata": {
        "id": "BsW8CXAXv-tC"
      },
      "source": [
        "not_learners_id = ['U01BE2PR6LU']"
      ],
      "execution_count": 141,
      "outputs": []
    },
    {
      "cell_type": "code",
      "metadata": {
        "colab": {
          "base_uri": "https://localhost:8080/"
        },
        "id": "XOvJ5kGCsmAD",
        "outputId": "79567aaf-62bd-4091-deca-6e13c1c80e79"
      },
      "source": [
        "## Summarize all submitted assignments + reviews cnt\n",
        "not_learners_id = ['U01BE2PR6LU'] # -> Remove MA from the user_id\n",
        "github, reply_count, reply_users_count, reply_users, latest_reply = '','','','',''\n",
        "for i in range(20):\n",
        "  ts = dt.fromtimestamp(float(msg_ls[i]['ts'])) # -> Convert timestamp Epoch thành dàng dễ đọc\n",
        "  user = msg_ls[i]['user'] # -> Lấy thông tin người post messages\n",
        "  if msg_ls[i]['user'] not in not_learners_id:\n",
        "    if 'attachments' in msg_ls[i].keys():\n",
        "      #print(msg_ls[i].keys())\n",
        "      text = msg_ls[i]['text']\n",
        "      github_link = re.findall('(?:https?://)?(?:www[.])?github[.]com/[\\w-]+/?', text) #-> Submission là các message có link github\n",
        "      #print(msg_ls[i])\n",
        "      if len(github_link) > 0: github = github_link[0]\n",
        "      if 'reply_count' in msg_ls[i].keys(): reply_count = msg_ls[i]['reply_count'] #-> Extract số review\n",
        "      if 'reply_users_count' in msg_ls[i].keys(): reply_users_count = msg_ls[i]['reply_users_count']\n",
        "      if 'reply_users' in msg_ls[i].keys(): reply_users = msg_ls[i]['reply_users']\n",
        "      if 'latest_reply' in msg_ls[i].keys(): latest_reply = dt.fromtimestamp(float(msg_ls[i]['latest_reply']))\n",
        "      print(ts, user, reply_users_count, reply_users, latest_reply, github)"
      ],
      "execution_count": 142,
      "outputs": [
        {
          "output_type": "stream",
          "name": "stdout",
          "text": [
            "2021-05-10 11:51:46.004700 U01UJ9LG5U5 2 ['U01USGKQ771', 'U01V00KHHHP'] 2021-05-15 16:14:31.003600 https://github.com/danhpcv/\n2021-05-10 11:35:39.003800 U01UMC08KL2 2 ['U01UTGS5ZNY', 'U01UMC08KL2'] 2021-05-18 15:09:59.000800 https://github.com/auslynnguyen/\n2021-05-08 13:31:59.005200 U01UMJ36QD9 1 ['U01UMBX2X18'] 2021-05-08 13:36:43.006000 https://github.com/auslynnguyen/\n"
          ]
        }
      ]
    },
    {
      "cell_type": "markdown",
      "metadata": {
        "id": "SgSC21qO3kKA"
      },
      "source": [
        "### TODO#4\n",
        "* Tạo thành 1 bảng chứa các thông tin trên và update lên Spreadsheet (Sheet: Assignment#2 Submission)"
      ]
    },
    {
      "cell_type": "markdown",
      "metadata": {
        "id": "698exK3k35RM"
      },
      "source": [
        "-------------- HẾT PHẦN OPTION 2 ---------------------"
      ]
    },
    {
      "cell_type": "code",
      "execution_count": 182,
      "metadata": {},
      "outputs": [
        {
          "output_type": "execute_result",
          "data": {
            "text/plain": [
              "{'reply_users_count': [2,\n",
              "  2,\n",
              "  1,\n",
              "  '',\n",
              "  2,\n",
              "  1,\n",
              "  2,\n",
              "  1,\n",
              "  1,\n",
              "  '',\n",
              "  '',\n",
              "  3,\n",
              "  1,\n",
              "  1,\n",
              "  1,\n",
              "  1,\n",
              "  1,\n",
              "  2,\n",
              "  1,\n",
              "  2,\n",
              "  3,\n",
              "  2],\n",
              " 'reply_users': [['U01USGKQ771', 'U01V00KHHHP'],\n",
              "  ['U01UTGS5ZNY', 'U01UMC08KL2'],\n",
              "  ['U01UMBX2X18'],\n",
              "  '',\n",
              "  ['U01UMC0N5U2', 'U01U6JQB695'],\n",
              "  ['U01UMBZHU2W'],\n",
              "  ['U01UMJ451V1', 'U01UMBZHU2W'],\n",
              "  ['U01UMJ451V1'],\n",
              "  ['U01V00P4S2V'],\n",
              "  '',\n",
              "  '',\n",
              "  ['U01UMBW8G8J', 'U01UMJ451V1', 'U01V082PLN5'],\n",
              "  ['U01UJ9MUADT'],\n",
              "  ['U01UTGVPE7N'],\n",
              "  ['U01UTGRMGEQ'],\n",
              "  ['U01UJ9PA0MB'],\n",
              "  ['U01UJ9PA0MB'],\n",
              "  ['U01UMBW8G8J', 'U01UTGT8CVA'],\n",
              "  ['U01UJ9MUADT'],\n",
              "  ['U01VB632FPS', 'U01UJ9PA0MB'],\n",
              "  ['U01V00JK9LH', 'U01UMJ5AQ0K', 'U01V082PLN5'],\n",
              "  ['U01V00JK9LH', 'U01UJ9PRT5K']],\n",
              " 'latest_reply': [datetime.datetime(2021, 5, 15, 16, 14, 31, 3600),\n",
              "  datetime.datetime(2021, 5, 18, 15, 9, 59, 800),\n",
              "  datetime.datetime(2021, 5, 8, 13, 36, 43, 6000),\n",
              "  '',\n",
              "  datetime.datetime(2021, 5, 11, 10, 10, 6, 1300),\n",
              "  datetime.datetime(2021, 5, 15, 0, 51, 26, 24600),\n",
              "  datetime.datetime(2021, 5, 15, 0, 52, 35, 25100),\n",
              "  datetime.datetime(2021, 5, 11, 19, 37, 14, 3100),\n",
              "  datetime.datetime(2021, 5, 14, 18, 22, 6, 23600),\n",
              "  '',\n",
              "  '',\n",
              "  datetime.datetime(2021, 5, 22, 12, 49, 27, 2400),\n",
              "  datetime.datetime(2021, 5, 10, 19, 45, 15, 5800),\n",
              "  datetime.datetime(2021, 5, 15, 8, 58, 19, 1900),\n",
              "  datetime.datetime(2021, 5, 11, 21, 46, 48, 5500),\n",
              "  datetime.datetime(2021, 5, 11, 22, 58, 18, 6600),\n",
              "  datetime.datetime(2021, 5, 13, 10, 53, 49, 600),\n",
              "  datetime.datetime(2021, 5, 14, 22, 25, 2, 23900),\n",
              "  datetime.datetime(2021, 5, 10, 20, 58, 47, 6300),\n",
              "  datetime.datetime(2021, 5, 13, 12, 16, 10, 1100),\n",
              "  datetime.datetime(2021, 5, 22, 14, 21, 26, 3600),\n",
              "  datetime.datetime(2021, 5, 16, 8, 46, 3, 800)],\n",
              " 'github': ['https://github.com/danhpcv/',\n",
              "  'https://github.com/auslynnguyen/',\n",
              "  '',\n",
              "  'https://github.com/hoaintp/',\n",
              "  'https://github.com/Tenderriver/',\n",
              "  'https://github.com/saturn1101/',\n",
              "  '',\n",
              "  'https://github.com/AnhThuNguyenHuynh/',\n",
              "  'https://github.com/vietqh/',\n",
              "  'https://github.com/vuthanhdatt/',\n",
              "  'https://github.com/TranPham-96/',\n",
              "  'https://github.com/annaho124/',\n",
              "  'https://github.com/minhnguyentk95/',\n",
              "  'https://github.com/lienanh264/',\n",
              "  'https://github.com/Lulichlam/',\n",
              "  'https://github.com/tamle1012/',\n",
              "  'https://github.com/danhpcv/',\n",
              "  'https://github.com/ngttnguyen/',\n",
              "  'https://github.com/cnhhoang850/',\n",
              "  '',\n",
              "  'https://github.com/interphuoc/',\n",
              "  'https://github.com/duongphannamhung/'],\n",
              " 'reply_count': [2,\n",
              "  2,\n",
              "  1,\n",
              "  '',\n",
              "  2,\n",
              "  1,\n",
              "  2,\n",
              "  1,\n",
              "  1,\n",
              "  '',\n",
              "  '',\n",
              "  3,\n",
              "  1,\n",
              "  1,\n",
              "  1,\n",
              "  1,\n",
              "  1,\n",
              "  2,\n",
              "  1,\n",
              "  2,\n",
              "  6,\n",
              "  2]}"
            ]
          },
          "metadata": {},
          "execution_count": 182
        }
      ],
      "source": [
        "not_learners_id = ['U01BE2PR6LU']\n",
        "github, reply_count, reply_users_count, reply_users, latest_reply = '','','','',''\n",
        "msg_test = {'reply_users_count':[],'reply_users':[],'latest_reply':[],'github':[], 'reply_count':[]}\n",
        "for i in range(70):\n",
        "    ts=dt.fromtimestamp(float(msg_ls[i]['ts'])) # -> Convert timestamp Epoch thành dàng dễ đọc\n",
        "    user = msg_ls[i]['user'] # -> Lấy thông tin người post messages\n",
        "    if msg_ls[i]['user'] not in not_learners_id:\n",
        "        if 'attachments' in msg_ls[i].keys():\n",
        "        #print(msg_ls[i].keys())\n",
        "            text = msg_ls[i]['text']\n",
        "            github_link = re.findall('(?:https?://)?(?:www[.])?github[.]com/[\\w-]+/?', text) #-> Submission là các message có link github\n",
        "            #print(msg_ls[i])\n",
        "            if len(github_link) > 0: msg_test['github'].append(github_link[0])\n",
        "            else: msg_test['github'].append('')\n",
        "            if 'reply_count' in msg_ls[i].keys(): msg_test['reply_count'].append(msg_ls[i]['reply_count'])#-> Extract số review\n",
        "            else: msg_test['reply_count'].append('')\n",
        "            if 'reply_users_count' in msg_ls[i].keys(): msg_test['reply_users_count'].append(msg_ls[i]['reply_users_count'])\n",
        "            else: msg_test['reply_users_count'].append('')\n",
        "            if 'reply_users' in msg_ls[i].keys(): msg_test['reply_users'].append(msg_ls[i]['reply_users'])\n",
        "            else: msg_test['reply_users'].append('')\n",
        "            if 'latest_reply' in msg_ls[i].keys(): msg_test['latest_reply'].append(dt.fromtimestamp(float(msg_ls[i]['latest_reply'])))\n",
        "            else: msg_test['latest_reply'].append('')\n",
        "msg_test\n"
      ]
    },
    {
      "cell_type": "code",
      "execution_count": 183,
      "metadata": {},
      "outputs": [
        {
          "output_type": "execute_result",
          "data": {
            "text/plain": [
              "   reply_users_count                              reply_users  \\\n",
              "0                  2               [U01USGKQ771, U01V00KHHHP]   \n",
              "1                  2               [U01UTGS5ZNY, U01UMC08KL2]   \n",
              "2                  1                            [U01UMBX2X18]   \n",
              "3                                                               \n",
              "4                  2               [U01UMC0N5U2, U01U6JQB695]   \n",
              "5                  1                            [U01UMBZHU2W]   \n",
              "6                  2               [U01UMJ451V1, U01UMBZHU2W]   \n",
              "7                  1                            [U01UMJ451V1]   \n",
              "8                  1                            [U01V00P4S2V]   \n",
              "9                                                               \n",
              "10                                                              \n",
              "11                 3  [U01UMBW8G8J, U01UMJ451V1, U01V082PLN5]   \n",
              "12                 1                            [U01UJ9MUADT]   \n",
              "13                 1                            [U01UTGVPE7N]   \n",
              "14                 1                            [U01UTGRMGEQ]   \n",
              "15                 1                            [U01UJ9PA0MB]   \n",
              "16                 1                            [U01UJ9PA0MB]   \n",
              "17                 2               [U01UMBW8G8J, U01UTGT8CVA]   \n",
              "18                 1                            [U01UJ9MUADT]   \n",
              "19                 2               [U01VB632FPS, U01UJ9PA0MB]   \n",
              "20                 3  [U01V00JK9LH, U01UMJ5AQ0K, U01V082PLN5]   \n",
              "21                 2               [U01V00JK9LH, U01UJ9PRT5K]   \n",
              "\n",
              "                 latest_reply                                 github  \\\n",
              "0  2021-05-15 16:14:31.003600            https://github.com/danhpcv/   \n",
              "1  2021-05-18 15:09:59.000800       https://github.com/auslynnguyen/   \n",
              "2  2021-05-08 13:36:43.006000                                          \n",
              "3                         NaT            https://github.com/hoaintp/   \n",
              "4  2021-05-11 10:10:06.001300        https://github.com/Tenderriver/   \n",
              "5  2021-05-15 00:51:26.024600         https://github.com/saturn1101/   \n",
              "6  2021-05-15 00:52:35.025100                                          \n",
              "7  2021-05-11 19:37:14.003100  https://github.com/AnhThuNguyenHuynh/   \n",
              "8  2021-05-14 18:22:06.023600             https://github.com/vietqh/   \n",
              "9                         NaT        https://github.com/vuthanhdatt/   \n",
              "10                        NaT        https://github.com/TranPham-96/   \n",
              "11 2021-05-22 12:49:27.002400          https://github.com/annaho124/   \n",
              "12 2021-05-10 19:45:15.005800     https://github.com/minhnguyentk95/   \n",
              "13 2021-05-15 08:58:19.001900         https://github.com/lienanh264/   \n",
              "14 2021-05-11 21:46:48.005500          https://github.com/Lulichlam/   \n",
              "15 2021-05-11 22:58:18.006600          https://github.com/tamle1012/   \n",
              "16 2021-05-13 10:53:49.000600            https://github.com/danhpcv/   \n",
              "17 2021-05-14 22:25:02.023900         https://github.com/ngttnguyen/   \n",
              "18 2021-05-10 20:58:47.006300        https://github.com/cnhhoang850/   \n",
              "19 2021-05-13 12:16:10.001100                                          \n",
              "20 2021-05-22 14:21:26.003600         https://github.com/interphuoc/   \n",
              "21 2021-05-16 08:46:03.000800   https://github.com/duongphannamhung/   \n",
              "\n",
              "   reply_count  \n",
              "0            2  \n",
              "1            2  \n",
              "2            1  \n",
              "3               \n",
              "4            2  \n",
              "5            1  \n",
              "6            2  \n",
              "7            1  \n",
              "8            1  \n",
              "9               \n",
              "10              \n",
              "11           3  \n",
              "12           1  \n",
              "13           1  \n",
              "14           1  \n",
              "15           1  \n",
              "16           1  \n",
              "17           2  \n",
              "18           1  \n",
              "19           2  \n",
              "20           6  \n",
              "21           2  "
            ],
            "text/html": "<div>\n<style scoped>\n    .dataframe tbody tr th:only-of-type {\n        vertical-align: middle;\n    }\n\n    .dataframe tbody tr th {\n        vertical-align: top;\n    }\n\n    .dataframe thead th {\n        text-align: right;\n    }\n</style>\n<table border=\"1\" class=\"dataframe\">\n  <thead>\n    <tr style=\"text-align: right;\">\n      <th></th>\n      <th>reply_users_count</th>\n      <th>reply_users</th>\n      <th>latest_reply</th>\n      <th>github</th>\n      <th>reply_count</th>\n    </tr>\n  </thead>\n  <tbody>\n    <tr>\n      <th>0</th>\n      <td>2</td>\n      <td>[U01USGKQ771, U01V00KHHHP]</td>\n      <td>2021-05-15 16:14:31.003600</td>\n      <td>https://github.com/danhpcv/</td>\n      <td>2</td>\n    </tr>\n    <tr>\n      <th>1</th>\n      <td>2</td>\n      <td>[U01UTGS5ZNY, U01UMC08KL2]</td>\n      <td>2021-05-18 15:09:59.000800</td>\n      <td>https://github.com/auslynnguyen/</td>\n      <td>2</td>\n    </tr>\n    <tr>\n      <th>2</th>\n      <td>1</td>\n      <td>[U01UMBX2X18]</td>\n      <td>2021-05-08 13:36:43.006000</td>\n      <td></td>\n      <td>1</td>\n    </tr>\n    <tr>\n      <th>3</th>\n      <td></td>\n      <td></td>\n      <td>NaT</td>\n      <td>https://github.com/hoaintp/</td>\n      <td></td>\n    </tr>\n    <tr>\n      <th>4</th>\n      <td>2</td>\n      <td>[U01UMC0N5U2, U01U6JQB695]</td>\n      <td>2021-05-11 10:10:06.001300</td>\n      <td>https://github.com/Tenderriver/</td>\n      <td>2</td>\n    </tr>\n    <tr>\n      <th>5</th>\n      <td>1</td>\n      <td>[U01UMBZHU2W]</td>\n      <td>2021-05-15 00:51:26.024600</td>\n      <td>https://github.com/saturn1101/</td>\n      <td>1</td>\n    </tr>\n    <tr>\n      <th>6</th>\n      <td>2</td>\n      <td>[U01UMJ451V1, U01UMBZHU2W]</td>\n      <td>2021-05-15 00:52:35.025100</td>\n      <td></td>\n      <td>2</td>\n    </tr>\n    <tr>\n      <th>7</th>\n      <td>1</td>\n      <td>[U01UMJ451V1]</td>\n      <td>2021-05-11 19:37:14.003100</td>\n      <td>https://github.com/AnhThuNguyenHuynh/</td>\n      <td>1</td>\n    </tr>\n    <tr>\n      <th>8</th>\n      <td>1</td>\n      <td>[U01V00P4S2V]</td>\n      <td>2021-05-14 18:22:06.023600</td>\n      <td>https://github.com/vietqh/</td>\n      <td>1</td>\n    </tr>\n    <tr>\n      <th>9</th>\n      <td></td>\n      <td></td>\n      <td>NaT</td>\n      <td>https://github.com/vuthanhdatt/</td>\n      <td></td>\n    </tr>\n    <tr>\n      <th>10</th>\n      <td></td>\n      <td></td>\n      <td>NaT</td>\n      <td>https://github.com/TranPham-96/</td>\n      <td></td>\n    </tr>\n    <tr>\n      <th>11</th>\n      <td>3</td>\n      <td>[U01UMBW8G8J, U01UMJ451V1, U01V082PLN5]</td>\n      <td>2021-05-22 12:49:27.002400</td>\n      <td>https://github.com/annaho124/</td>\n      <td>3</td>\n    </tr>\n    <tr>\n      <th>12</th>\n      <td>1</td>\n      <td>[U01UJ9MUADT]</td>\n      <td>2021-05-10 19:45:15.005800</td>\n      <td>https://github.com/minhnguyentk95/</td>\n      <td>1</td>\n    </tr>\n    <tr>\n      <th>13</th>\n      <td>1</td>\n      <td>[U01UTGVPE7N]</td>\n      <td>2021-05-15 08:58:19.001900</td>\n      <td>https://github.com/lienanh264/</td>\n      <td>1</td>\n    </tr>\n    <tr>\n      <th>14</th>\n      <td>1</td>\n      <td>[U01UTGRMGEQ]</td>\n      <td>2021-05-11 21:46:48.005500</td>\n      <td>https://github.com/Lulichlam/</td>\n      <td>1</td>\n    </tr>\n    <tr>\n      <th>15</th>\n      <td>1</td>\n      <td>[U01UJ9PA0MB]</td>\n      <td>2021-05-11 22:58:18.006600</td>\n      <td>https://github.com/tamle1012/</td>\n      <td>1</td>\n    </tr>\n    <tr>\n      <th>16</th>\n      <td>1</td>\n      <td>[U01UJ9PA0MB]</td>\n      <td>2021-05-13 10:53:49.000600</td>\n      <td>https://github.com/danhpcv/</td>\n      <td>1</td>\n    </tr>\n    <tr>\n      <th>17</th>\n      <td>2</td>\n      <td>[U01UMBW8G8J, U01UTGT8CVA]</td>\n      <td>2021-05-14 22:25:02.023900</td>\n      <td>https://github.com/ngttnguyen/</td>\n      <td>2</td>\n    </tr>\n    <tr>\n      <th>18</th>\n      <td>1</td>\n      <td>[U01UJ9MUADT]</td>\n      <td>2021-05-10 20:58:47.006300</td>\n      <td>https://github.com/cnhhoang850/</td>\n      <td>1</td>\n    </tr>\n    <tr>\n      <th>19</th>\n      <td>2</td>\n      <td>[U01VB632FPS, U01UJ9PA0MB]</td>\n      <td>2021-05-13 12:16:10.001100</td>\n      <td></td>\n      <td>2</td>\n    </tr>\n    <tr>\n      <th>20</th>\n      <td>3</td>\n      <td>[U01V00JK9LH, U01UMJ5AQ0K, U01V082PLN5]</td>\n      <td>2021-05-22 14:21:26.003600</td>\n      <td>https://github.com/interphuoc/</td>\n      <td>6</td>\n    </tr>\n    <tr>\n      <th>21</th>\n      <td>2</td>\n      <td>[U01V00JK9LH, U01UJ9PRT5K]</td>\n      <td>2021-05-16 08:46:03.000800</td>\n      <td>https://github.com/duongphannamhung/</td>\n      <td>2</td>\n    </tr>\n  </tbody>\n</table>\n</div>"
          },
          "metadata": {},
          "execution_count": 183
        }
      ],
      "source": [
        "#msg_test['reply_users'],msg_test['latest_reply'])\n",
        "#msg_test['reply_count'], msg_test['github'],\n",
        "msg_test_df = pd.DataFrame(msg_test)\n",
        "msg_test_df"
      ]
    },
    {
      "cell_type": "code",
      "execution_count": 184,
      "metadata": {},
      "outputs": [],
      "source": [
        "sheet_index_no = 1\n",
        "spreadsheet_key = '1g4Kbc70s2_LmtA4EczDjSMZNZK0c8C-xumZ_bmJ3l0k' # input SPREADSHEET_KEY HERE\n",
        "sh = gc.open_by_key(spreadsheet_key)\n",
        "worksheet = sh.get_worksheet(sheet_index_no) #-> 0 - first sheet, 1 - second sheet etc. \n",
        "\n",
        "# APPEND DATA TO SHEET\n",
        "set_with_dataframe(worksheet, msg_test_df) #-> Upload user_df vào Sheet đầu tiên trong Spreadsheet\n",
        "\n",
        "# DONE: Bây giờ bạn có thể mở spreadsheet và kiểm tra nội dung đã update chứ"
      ]
    },
    {
      "cell_type": "code",
      "execution_count": null,
      "metadata": {},
      "outputs": [],
      "source": []
    }
  ]
}
